{
 "cells": [
  {
   "cell_type": "markdown",
   "metadata": {},
   "source": [
    "# Introduction\n",
    "\n",
    "This notebook demonstrates methods and usage for the `fluids` module.\n",
    "\n",
    "# Examples\n",
    "\n",
    "## Bernoulli's Equation\n",
    "\n",
    "### Problem\n",
    "\n",
    "Suppose that water (density = 998.87 kg/m3) is held in a tank (v = 0 ft/s) at atmospheric pressure (14.6959 psia) at a height that is 10 yards above ground-level.\n",
    "Water is allowed to flow from the tank through a pipe that is 3.00123 m from ground-level.\n",
    "What is the velocity of the fluid in the pipe?\n",
    "\n",
    "### Solution\n",
    "\n",
    "The method `Fluids.bernoulli` provides a can numerically solve for the velocity in the pipe.\n",
    "Define the `initial` and `final` values for velocity, height, pressure, and density as *v, h, P, rho*, respectively.\n",
    "We do not know *v* final, so mark that value as `\"unknown\"`.\n",
    "To demonstrate the unit conversion capabilities of the module, this example enters values for *P* final in pascals (standard atmospheric pressure is 101325 Pa) and *rho* final in lb/ft^3 (62.423 lb/ft^3).\n",
    "Note that the units parsing can use either `^` and `**` for symbols to denote exponentiation.\n",
    "\n",
    "In code, the solution is shown as below:"
   ]
  },
  {
   "cell_type": "code",
   "execution_count": 2,
   "metadata": {},
   "outputs": [
    {
     "data": {
      "text/plain": [
       "'v = -10.97 m/s or 10.97 m/s'"
      ]
     },
     "execution_count": 2,
     "metadata": {},
     "output_type": "execute_result"
    }
   ],
   "source": [
    "from chem_eng_solver.fluids import Fluids\n",
    "\n",
    "\n",
    "initial = {\n",
    "    \"v\": \"0.0000 ft/s\",\n",
    "    \"h\": \"10.000 yard\",\n",
    "    \"P\": \"14.6959 psi\",\n",
    "    \"rho\": \"998.87 kg/m**3\",\n",
    "}\n",
    "final = {\n",
    "    \"v\": \"unknown\",\n",
    "    \"h\": \"3.00123 m\",\n",
    "    \"P\": \"101325 pascal\",\n",
    "    \"rho\": \"62.423 lb/ft^3\",\n",
    "}\n",
    "\n",
    "fl = Fluids(initial, final, units_out=\"m/s\")\n",
    "fl.bernoulli()"
   ]
  }
 ],
 "metadata": {
  "interpreter": {
   "hash": "ae7186e6cc4e436dc3a36fc88d7cbd7f6b22cd7758f717089c8763d152d78a3d"
  },
  "kernelspec": {
   "display_name": "Python 3.7.3 64-bit ('chem-eng-solver-AIlJxP1x-py3.7': poetry)",
   "name": "python3"
  },
  "language_info": {
   "codemirror_mode": {
    "name": "ipython",
    "version": 3
   },
   "file_extension": ".py",
   "mimetype": "text/x-python",
   "name": "python",
   "nbconvert_exporter": "python",
   "pygments_lexer": "ipython3",
   "version": "3.7.3"
  },
  "orig_nbformat": 4
 },
 "nbformat": 4,
 "nbformat_minor": 2
}
